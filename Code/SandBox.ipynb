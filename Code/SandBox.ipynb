{
 "cells": [
  {
   "cell_type": "code",
   "execution_count": 2,
   "metadata": {
    "collapsed": false
   },
   "outputs": [],
   "source": [
    "from __future__ import division  # Python 2 users only\n",
    "import nltk, re, pprint\n",
    "from nltk import word_tokenize\n",
    "#nltk.download('punkt')\n",
    "\n",
    "import numpy as np"
   ]
  },
  {
   "cell_type": "code",
   "execution_count": 3,
   "metadata": {
    "collapsed": false
   },
   "outputs": [],
   "source": [
    "f = open('../Papers/ALL/ALL.txt')"
   ]
  },
  {
   "cell_type": "code",
   "execution_count": 4,
   "metadata": {
    "collapsed": true
   },
   "outputs": [],
   "source": [
    "raw = f.read()"
   ]
  },
  {
   "cell_type": "code",
   "execution_count": 5,
   "metadata": {
    "collapsed": false
   },
   "outputs": [],
   "source": [
    "tokens = word_tokenize(raw.decode('utf-8'))\n",
    "tokens = [w.lower() for w in tokens]\n",
    "words = [word for word in tokens if word.isalpha()]\n",
    "from nltk.corpus import stopwords\n",
    "stop_words = set(stopwords.words('english'))\n",
    "ignore_words = ['annual','review','journal','may','anderson','reviews','ann','rev','rights','reserved','institution',\n",
    "               'annu','fig','b','equation','equations','biological','biology','a','b','c','d','e','f','g','h','i','j',\\\n",
    "               'k','l','m','n','o','p','q','r','s','t','u','v','w','x','y','z','use', 'uses','year','figure','studied','per',\\\n",
    "               'see','however','new','utc','http','https','et','al','one','two','study','studying','studies', 'also','used',\\\n",
    "               'thus','\\u03c3','\\u03c9','aug','thu','would','many','found','downloaded','press','university','within','de',\\\n",
    "               'could','should','results','result','effect','effects','total','given','using','table','likely','therefore',\\\n",
    "               'however','important','pp','among','ro','since','significant','first','\\uxe4','must','well','levin','section',\\\n",
    "               'much','particular','second','first','show','based','part','biol','either','society','2001','2002','2003',\n",
    "               '1999','2000','2018','org','jstor','10','165','daszak','di','1998','eids','nh','ctl','www','com',\\\n",
    "               '1','2','3','4','5','130','17','203','75','18']\n",
    "common_words = ['host','hosts','population','populations','transmission','model','models','disease','pathogen']\n",
    "words = [w for w in words if not w in stop_words]\n",
    "words = [w for w in words if not w in ignore_words]\n",
    "#words = [w for w in words if not w in common_words]"
   ]
  },
  {
   "cell_type": "code",
   "execution_count": 6,
   "metadata": {
    "collapsed": false
   },
   "outputs": [],
   "source": [
    "from nltk.stem.porter import PorterStemmer\n",
    "porter = PorterStemmer()\n",
    "stemmed = [porter.stem(word) for word in words]"
   ]
  },
  {
   "cell_type": "code",
   "execution_count": 7,
   "metadata": {
    "collapsed": true
   },
   "outputs": [],
   "source": [
    "from collections import Counter\n",
    "words_to_count = (word for word in stemmed)\n",
    "c = Counter(words_to_count)"
   ]
  },
  {
   "cell_type": "code",
   "execution_count": 9,
   "metadata": {
    "collapsed": false
   },
   "outputs": [
    {
     "name": "stdout",
     "output_type": "stream",
     "text": [
      "[(u'popul', 13407), (u'host', 13205), (u'infect', 13059), (u'parasit', 11462), (u'model', 9377), (u'diseas', 9362), (u'rate', 6545), (u'transmiss', 5755), (u'densiti', 4744), (u'number', 4493), (u'increas', 3896), (u'speci', 3853), (u'time', 3621), (u'dynam', 3267), (u'ecolog', 3231), (u'infecti', 3184), (u'differ', 3162), (u'pathogen', 3139), (u'individu', 3117), (u'viru', 3109)]\n"
     ]
    }
   ],
   "source": [
    "print c.most_common(20)"
   ]
  },
  {
   "cell_type": "code",
   "execution_count": null,
   "metadata": {
    "collapsed": true
   },
   "outputs": [],
   "source": []
  }
 ],
 "metadata": {
  "kernelspec": {
   "display_name": "Python 2",
   "language": "python",
   "name": "python2"
  },
  "language_info": {
   "codemirror_mode": {
    "name": "ipython",
    "version": 2
   },
   "file_extension": ".py",
   "mimetype": "text/x-python",
   "name": "python",
   "nbconvert_exporter": "python",
   "pygments_lexer": "ipython2",
   "version": "2.7.12"
  }
 },
 "nbformat": 4,
 "nbformat_minor": 2
}
