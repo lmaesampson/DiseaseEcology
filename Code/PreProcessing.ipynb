{
 "cells": [
  {
   "cell_type": "code",
   "execution_count": 1,
   "metadata": {
    "collapsed": false
   },
   "outputs": [],
   "source": [
    "import numpy as np\n",
    "import pandas as pd\n",
    "import re, nltk, csv, collections, pickle\n",
    "from collections import Counter\n",
    "\n",
    "#nlkt stuff:\n",
    "from nltk import word_tokenize\n",
    "from nltk.stem.porter import PorterStemmer\n",
    "ps = PorterStemmer()\n",
    "from nltk.stem.wordnet import WordNetLemmatizer\n",
    "from nltk.corpus import stopwords"
   ]
  },
  {
   "cell_type": "code",
   "execution_count": 2,
   "metadata": {
    "collapsed": true
   },
   "outputs": [],
   "source": [
    "def strip_formatting(string):\n",
    "    string = string.lower()\n",
    "    string = re.sub(r\"([.!?,'/()])-\", r\" \", string)\n",
    "    string = re.sub(r\" ( [ . ! ? , ' / ( ) ] )\", r\" \", string)\n",
    "    string = re.sub(r\"t-p\",r\"t p\", string) #there are a lot of instances of host-parasite.\n",
    "    string = re.sub(r\"    \",r\" \", string)\n",
    "    words = string.split()\n",
    "    return string"
   ]
  },
  {
   "cell_type": "code",
   "execution_count": 3,
   "metadata": {
    "collapsed": false
   },
   "outputs": [],
   "source": [
    "#Once you have a set of labeled abstracts, you can generate the data for fasText to read (fastText?)"
   ]
  },
  {
   "cell_type": "code",
   "execution_count": 5,
   "metadata": {
    "collapsed": false
   },
   "outputs": [
    {
     "name": "stdout",
     "output_type": "stream",
     "text": [
      "there were 6196 abstracts.\n"
     ]
    }
   ],
   "source": [
    "stop_words = set(stopwords.words('english'))\n",
    "ignore_words = ['annual','review','journal','may','anderson','reviews','ann','rev','rights','reserved','institution',\n",
    "               'annu','fig','b','biological','biology','a','b','c','d','e','f','g','h','i','j',\\\n",
    "               'k','l','m','n','o','p','q','r','s','t','u','v','w','x','y','z','use', 'uses','year','figure','studied','per',\\\n",
    "               'see','however','new','utc','http','https','et','al','one','two','study','studying','studies', 'also','used',\\\n",
    "               'thus','\\u03c3','\\u03c9','aug','thu','would','many','found','downloaded','press','university','within','de',\\\n",
    "               'could','should','total','given','using','table','likely','therefore',\\\n",
    "               'however','important','pp','among','ro','since','significant','first','\\uxe4','must','well','levin','section',\\\n",
    "               'much','particular','second','first','show','based','part','biol','either','society','may',\\\n",
    "               'fg','fgs','fh','fhteg','fhtegs','fi','mhc','bd','ci','denv','cx','zymv']\n",
    "\n",
    "#Based on words from the dispersion plot that are present throughout the corpus, drop these words:\n",
    "common_words = ['host','population','populations','hosts','pathogen','pathogens','evolution']\n",
    "\n",
    "\n",
    "counter = collections.Counter()\n",
    "words_to_count = []\n",
    "f = open('../FullCorpus/Abstracts_raw_all.txt','r')\n",
    "data = f.readlines()\n",
    "outFile = open('../FullCorpus/Abstracts_min_formatted_all.txt','w')\n",
    "kk = 0\n",
    "i = 0\n",
    "start = 0\n",
    "end = 1\n",
    "for line in data:\n",
    "        cat = line[0:2]\n",
    "        if cat=='U1' or cat=='AB':\n",
    "            finaltitle = [(w) for w in titleentry if not w in stop_words]\n",
    "            title = ' '.join(finaltitle)\n",
    "            start = 0\n",
    "            end = 1\n",
    "        if start==1 and end==0:\n",
    "            newline = line[:]\n",
    "            newline = strip_formatting(newline)\n",
    "            \n",
    "            tokens = word_tokenize(newline)\n",
    "            tokens = [w.lower() for w in tokens]\n",
    "\n",
    "            newline = ([word for word in tokens if word.isalpha()])\n",
    "            titleentry += newline[:]\n",
    "        if cat=='TI':\n",
    "            titleentry = line[2:]\n",
    "            titleentry = strip_formatting(titleentry)\n",
    "            \n",
    "            tokens = word_tokenize(titleentry)\n",
    "            tokens = [w.lower() for w in tokens]\n",
    "\n",
    "            titleentry = ([(word) for word in tokens if word.isalpha()])\n",
    "            \n",
    "            abstract = ' '\n",
    "            start = 1\n",
    "            end = 0\n",
    "            \n",
    "        if cat=='AB':\n",
    "            end = 1\n",
    "            entry = line[2:-1]\n",
    "            entry = strip_formatting(entry)\n",
    "\n",
    "            tokens = word_tokenize(entry)\n",
    "            tokens = [w.lower() for w in tokens]\n",
    "            \n",
    "            words = ([word for word in tokens if word.isalpha()])\n",
    "            #words = [(w) for w in words if not w in stop_words]\n",
    "            #words = [w for w in words if not w in ignore_words]\n",
    "            \n",
    "            abstract = ' '.join(words)\n",
    "            \n",
    "        if cat == 'ER':\n",
    "            fileentry = title+' '+abstract\n",
    "            #print fileentry\n",
    "            outline = \"{}\".format(fileentry)\n",
    "            outFile.write(fileentry + \"\\n\")\n",
    "            kk += 1\n",
    "outFile.close()\n",
    "\n",
    "print 'there were', kk, 'abstracts.'"
   ]
  },
  {
   "cell_type": "code",
   "execution_count": 14,
   "metadata": {
    "collapsed": false
   },
   "outputs": [
    {
     "name": "stdout",
     "output_type": "stream",
     "text": [
      "0\n"
     ]
    }
   ],
   "source": [
    "print len(words_to_count)\n",
    "c = Counter(words_to_count)\n",
    "\n",
    "mclist = c.most_common(5000)\n",
    "mclist = np.array(mclist)"
   ]
  },
  {
   "cell_type": "code",
   "execution_count": 15,
   "metadata": {
    "collapsed": false
   },
   "outputs": [
    {
     "ename": "IndexError",
     "evalue": "too many indices for array",
     "output_type": "error",
     "traceback": [
      "\u001b[0;31m---------------------------------------------------------------------------\u001b[0m",
      "\u001b[0;31mIndexError\u001b[0m                                Traceback (most recent call last)",
      "\u001b[0;32m<ipython-input-15-68a10a35e124>\u001b[0m in \u001b[0;36m<module>\u001b[0;34m()\u001b[0m\n\u001b[1;32m      1\u001b[0m \u001b[0;31m#Want to find the words that occur in between 1 ish percent and 10 ish percent of documents.\u001b[0m\u001b[0;34m\u001b[0m\u001b[0;34m\u001b[0m\u001b[0m\n\u001b[0;32m----> 2\u001b[0;31m \u001b[0;32mprint\u001b[0m \u001b[0mmclist\u001b[0m\u001b[0;34m[\u001b[0m\u001b[0;36m1800\u001b[0m\u001b[0;34m:\u001b[0m\u001b[0;36m2000\u001b[0m\u001b[0;34m,\u001b[0m\u001b[0;36m0\u001b[0m\u001b[0;34m]\u001b[0m\u001b[0;34m\u001b[0m\u001b[0m\n\u001b[0m\u001b[1;32m      3\u001b[0m \u001b[0mmask\u001b[0m \u001b[0;34m=\u001b[0m \u001b[0mmclist\u001b[0m\u001b[0;34m[\u001b[0m\u001b[0;34m:\u001b[0m\u001b[0;34m,\u001b[0m\u001b[0;36m0\u001b[0m\u001b[0;34m]\u001b[0m \u001b[0;34m==\u001b[0m \u001b[0;34m'measles'\u001b[0m\u001b[0;34m\u001b[0m\u001b[0m\n\u001b[1;32m      4\u001b[0m \u001b[0;32mprint\u001b[0m \u001b[0mmclist\u001b[0m\u001b[0;34m[\u001b[0m\u001b[0mmask\u001b[0m\u001b[0;34m]\u001b[0m\u001b[0;34m\u001b[0m\u001b[0m\n",
      "\u001b[0;31mIndexError\u001b[0m: too many indices for array"
     ]
    }
   ],
   "source": [
    "#Want to find the words that occur in between 1 ish percent and 10 ish percent of documents.\n",
    "print mclist[1800:2000,0]\n",
    "mask = mclist[:,0] == 'measles'\n",
    "print mclist[mask]"
   ]
  },
  {
   "cell_type": "code",
   "execution_count": null,
   "metadata": {
    "collapsed": true
   },
   "outputs": [],
   "source": [
    "#Use the words 50:1805\n",
    "include_words = mclist[50:,0].copy()"
   ]
  }
 ],
 "metadata": {
  "kernelspec": {
   "display_name": "Python 2",
   "language": "python",
   "name": "python2"
  },
  "language_info": {
   "codemirror_mode": {
    "name": "ipython",
    "version": 2
   },
   "file_extension": ".py",
   "mimetype": "text/x-python",
   "name": "python",
   "nbconvert_exporter": "python",
   "pygments_lexer": "ipython2",
   "version": "2.7.12"
  }
 },
 "nbformat": 4,
 "nbformat_minor": 2
}
